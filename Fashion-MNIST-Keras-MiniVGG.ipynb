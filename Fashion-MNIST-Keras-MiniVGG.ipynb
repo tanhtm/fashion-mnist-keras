{
 "cells": [
  {
   "cell_type": "markdown",
   "metadata": {},
   "source": [
    "# Fashion MNIST with Keras\n",
    "\n",
    "## Dataset"
   ]
  },
  {
   "cell_type": "code",
   "execution_count": 1,
   "metadata": {},
   "outputs": [
    {
     "name": "stderr",
     "output_type": "stream",
     "text": [
      "Using TensorFlow backend.\n"
     ]
    }
   ],
   "source": [
    "from keras.datasets import fashion_mnist\n",
    "((trainX, trainY), (testX, testY)) = fashion_mnist.load_data()"
   ]
  },
  {
   "cell_type": "markdown",
   "metadata": {},
   "source": [
    "## Model"
   ]
  },
  {
   "cell_type": "code",
   "execution_count": 2,
   "metadata": {},
   "outputs": [],
   "source": [
    "from keras.models import Sequential\n",
    "from keras.layers.normalization import BatchNormalization\n",
    "from keras.layers.convolutional import Conv2D\n",
    "from keras.layers.convolutional import MaxPooling2D\n",
    "from keras.layers.core import Activation\n",
    "from keras.layers.core import Flatten\n",
    "from keras.layers.core import Dropout\n",
    "from keras.layers.core import Dense\n",
    "from keras import backend as K\n",
    "\n",
    "class MiniVGGNet:\n",
    "    @staticmethod\n",
    "    def build(width, height, depth, classes):\n",
    "        # initialize the model along with the input shape to be\n",
    "        # \"channels last\" and the channels dimension itself\n",
    "        model = Sequential()\n",
    "        inputShape = (height, width, depth)\n",
    "        chanDim = -1\n",
    "        # if we are using \"channels first\", update the input shape\n",
    "        # and channels dimension\n",
    "        if K.image_data_format() == \"channels_first\":\n",
    "            inputShape = (depth, height, width)\n",
    "            chanDim = 1\n",
    "            \n",
    "        # first CONV => RELU => CONV => RELU => POOL layer set\n",
    "        model.add(Conv2D(32, (3, 3), padding=\"same\",\n",
    "                         input_shape=inputShape))\n",
    "        model.add(Activation(\"relu\"))\n",
    "        model.add(BatchNormalization(axis=chanDim))\n",
    "        model.add(Conv2D(32, (3, 3), padding=\"same\"))\n",
    "        model.add(Activation(\"relu\"))\n",
    "        model.add(BatchNormalization(axis=chanDim))\n",
    "        model.add(MaxPooling2D(pool_size=(2, 2)))\n",
    "        model.add(Dropout(0.25))\n",
    "        \n",
    "        # second CONV => RELU => CONV => RELU => POOL layer set\n",
    "        model.add(Conv2D(64, (3, 3), padding=\"same\"))\n",
    "        model.add(Activation(\"relu\"))\n",
    "        model.add(BatchNormalization(axis=chanDim))\n",
    "        model.add(Conv2D(64, (3, 3), padding=\"same\"))\n",
    "        model.add(Activation(\"relu\"))\n",
    "        model.add(BatchNormalization(axis=chanDim))\n",
    "        model.add(MaxPooling2D(pool_size=(2, 2)))\n",
    "        model.add(Dropout(0.25))\n",
    "        # first (and only) set of FC => RELU layers\n",
    "        model.add(Flatten())\n",
    "        model.add(Dense(512))\n",
    "        model.add(Activation(\"relu\"))\n",
    "        model.add(BatchNormalization())\n",
    "        model.add(Dropout(0.5))\n",
    "        # softmax classifier\n",
    "        model.add(Dense(classes))\n",
    "        model.add(Activation(\"softmax\"))\n",
    "        \n",
    "        # return the constructed network architecture\n",
    "        return model"
   ]
  },
  {
   "cell_type": "code",
   "execution_count": 3,
   "metadata": {},
   "outputs": [],
   "source": [
    "from sklearn.metrics import classification_report\n",
    "from keras.optimizers import SGD\n",
    "from keras.datasets import fashion_mnist\n",
    "from keras.utils import np_utils\n",
    "from keras import backend as K\n",
    "\n",
    "import matplotlib.pyplot as plt\n",
    "import numpy as np\n",
    "import cv2"
   ]
  },
  {
   "cell_type": "code",
   "execution_count": 4,
   "metadata": {},
   "outputs": [],
   "source": [
    "# initialize the number of epochs to train for, base learning rate,\n",
    "# and batch size\n",
    "NUM_EPOCHS = 25\n",
    "INIT_LR = 1e-2\n",
    "BS = 1024"
   ]
  },
  {
   "cell_type": "code",
   "execution_count": 5,
   "metadata": {},
   "outputs": [],
   "source": [
    "# if we are using \"channels first\" ordering, then reshape the design\n",
    "# matrix such that the matrix is:\n",
    "# num_samples x depth x rows x columns\n",
    "if K.image_data_format() == \"channels_first\":\n",
    "    trainX = trainX.reshape((trainX.shape[0], 1, 28, 28))\n",
    "    testX = testX.reshape((testX.shape[0], 1, 28, 28))\n",
    "    \n",
    "# otherwise, we are using \"channels last\" ordering, so the design\n",
    "# matrix shape should be: num_samples x rows x columns x depth\n",
    "else:\n",
    "    trainX = trainX.reshape((trainX.shape[0], 28, 28, 1))\n",
    "    testX = testX.reshape((testX.shape[0], 28, 28, 1))"
   ]
  },
  {
   "cell_type": "markdown",
   "metadata": {},
   "source": [
    "## Preprocess + Prepare"
   ]
  },
  {
   "cell_type": "code",
   "execution_count": 6,
   "metadata": {},
   "outputs": [],
   "source": [
    "# scale data to the range of [0, 1]\n",
    "trainX = trainX.astype(\"float32\") / 255.0\n",
    "testX = testX.astype(\"float32\") / 255.0\n",
    "# one-hot encode the training and testing labels\n",
    "trainY = np_utils.to_categorical(trainY, 10)\n",
    "testY = np_utils.to_categorical(testY, 10)\n",
    "# initialize the label names\n",
    "labelNames = [\"top\", \"trouser\", \"pullover\", \"dress\", \"coat\",\n",
    "              \"sandal\", \"shirt\", \"sneaker\", \"bag\", \"ankle boot\"]"
   ]
  },
  {
   "cell_type": "markdown",
   "metadata": {},
   "source": [
    "## Initialize the optimizer and model"
   ]
  },
  {
   "cell_type": "code",
   "execution_count": 7,
   "metadata": {},
   "outputs": [
    {
     "name": "stderr",
     "output_type": "stream",
     "text": [
      "WARNING: Logging before flag parsing goes to stderr.\n",
      "W0525 14:49:31.182587 140469793027840 deprecation_wrapper.py:119] From /home/thangdn/anaconda3/envs/duan/lib/python3.6/site-packages/keras/backend/tensorflow_backend.py:74: The name tf.get_default_graph is deprecated. Please use tf.compat.v1.get_default_graph instead.\n",
      "\n",
      "W0525 14:49:31.183961 140469793027840 deprecation_wrapper.py:119] From /home/thangdn/anaconda3/envs/duan/lib/python3.6/site-packages/keras/backend/tensorflow_backend.py:517: The name tf.placeholder is deprecated. Please use tf.compat.v1.placeholder instead.\n",
      "\n",
      "W0525 14:49:31.185502 140469793027840 deprecation_wrapper.py:119] From /home/thangdn/anaconda3/envs/duan/lib/python3.6/site-packages/keras/backend/tensorflow_backend.py:4138: The name tf.random_uniform is deprecated. Please use tf.random.uniform instead.\n",
      "\n",
      "W0525 14:49:31.203301 140469793027840 deprecation_wrapper.py:119] From /home/thangdn/anaconda3/envs/duan/lib/python3.6/site-packages/keras/backend/tensorflow_backend.py:174: The name tf.get_default_session is deprecated. Please use tf.compat.v1.get_default_session instead.\n",
      "\n",
      "W0525 14:49:31.204266 140469793027840 deprecation_wrapper.py:119] From /home/thangdn/anaconda3/envs/duan/lib/python3.6/site-packages/keras/backend/tensorflow_backend.py:181: The name tf.ConfigProto is deprecated. Please use tf.compat.v1.ConfigProto instead.\n",
      "\n",
      "W0525 14:49:32.205615 140469793027840 deprecation_wrapper.py:119] From /home/thangdn/anaconda3/envs/duan/lib/python3.6/site-packages/keras/backend/tensorflow_backend.py:1834: The name tf.nn.fused_batch_norm is deprecated. Please use tf.compat.v1.nn.fused_batch_norm instead.\n",
      "\n",
      "W0525 14:49:32.305752 140469793027840 deprecation_wrapper.py:119] From /home/thangdn/anaconda3/envs/duan/lib/python3.6/site-packages/keras/backend/tensorflow_backend.py:3976: The name tf.nn.max_pool is deprecated. Please use tf.nn.max_pool2d instead.\n",
      "\n",
      "W0525 14:49:32.310745 140469793027840 deprecation.py:506] From /home/thangdn/anaconda3/envs/duan/lib/python3.6/site-packages/keras/backend/tensorflow_backend.py:3445: calling dropout (from tensorflow.python.ops.nn_ops) with keep_prob is deprecated and will be removed in a future version.\n",
      "Instructions for updating:\n",
      "Please use `rate` instead of `keep_prob`. Rate should be set to `rate = 1 - keep_prob`.\n",
      "W0525 14:49:32.605093 140469793027840 deprecation_wrapper.py:119] From /home/thangdn/anaconda3/envs/duan/lib/python3.6/site-packages/keras/optimizers.py:790: The name tf.train.Optimizer is deprecated. Please use tf.compat.v1.train.Optimizer instead.\n",
      "\n"
     ]
    }
   ],
   "source": [
    "opt = SGD(lr=INIT_LR, momentum=0.9, decay=INIT_LR / NUM_EPOCHS)\n",
    "model = MiniVGGNet.build(width=28, height=28, depth=1, classes=10)\n",
    "model.compile(loss=\"categorical_crossentropy\", optimizer=opt,\n",
    "              metrics=[\"accuracy\"])"
   ]
  },
  {
   "cell_type": "markdown",
   "metadata": {},
   "source": [
    "## Train the network"
   ]
  },
  {
   "cell_type": "code",
   "execution_count": 8,
   "metadata": {},
   "outputs": [
    {
     "name": "stderr",
     "output_type": "stream",
     "text": [
      "W0525 14:49:32.678565 140469793027840 deprecation.py:323] From /home/thangdn/anaconda3/envs/duan/lib/python3.6/site-packages/tensorflow/python/ops/math_grad.py:1250: add_dispatch_support.<locals>.wrapper (from tensorflow.python.ops.array_ops) is deprecated and will be removed in a future version.\n",
      "Instructions for updating:\n",
      "Use tf.where in 2.0, which has the same broadcast rule as np.where\n"
     ]
    },
    {
     "name": "stdout",
     "output_type": "stream",
     "text": [
      "Train on 60000 samples, validate on 10000 samples\n",
      "Epoch 1/25\n",
      "60000/60000 [==============================] - 5s 90us/step - loss: 0.8424 - acc: 0.7277 - val_loss: 0.4562 - val_acc: 0.8360\n",
      "Epoch 2/25\n",
      "60000/60000 [==============================] - 3s 44us/step - loss: 0.4548 - acc: 0.8363 - val_loss: 0.3526 - val_acc: 0.8710\n",
      "Epoch 3/25\n",
      "60000/60000 [==============================] - 3s 44us/step - loss: 0.3933 - acc: 0.8561 - val_loss: 0.3546 - val_acc: 0.8653\n",
      "Epoch 4/25\n",
      "60000/60000 [==============================] - 3s 44us/step - loss: 0.3584 - acc: 0.8698 - val_loss: 0.2993 - val_acc: 0.8897\n",
      "Epoch 5/25\n",
      "60000/60000 [==============================] - 3s 44us/step - loss: 0.3350 - acc: 0.8792 - val_loss: 0.2981 - val_acc: 0.8904\n",
      "Epoch 6/25\n",
      "60000/60000 [==============================] - 3s 44us/step - loss: 0.3165 - acc: 0.8839 - val_loss: 0.2831 - val_acc: 0.8972\n",
      "Epoch 7/25\n",
      "60000/60000 [==============================] - 3s 44us/step - loss: 0.3032 - acc: 0.8896 - val_loss: 0.2696 - val_acc: 0.9021\n",
      "Epoch 8/25\n",
      "60000/60000 [==============================] - 3s 44us/step - loss: 0.2930 - acc: 0.8919 - val_loss: 0.2777 - val_acc: 0.9000\n",
      "Epoch 9/25\n",
      "60000/60000 [==============================] - 3s 44us/step - loss: 0.2808 - acc: 0.8979 - val_loss: 0.2587 - val_acc: 0.9046\n",
      "Epoch 10/25\n",
      "60000/60000 [==============================] - 3s 44us/step - loss: 0.2719 - acc: 0.9001 - val_loss: 0.2594 - val_acc: 0.9056\n",
      "Epoch 11/25\n",
      "60000/60000 [==============================] - 3s 44us/step - loss: 0.2712 - acc: 0.9008 - val_loss: 0.2508 - val_acc: 0.9105\n",
      "Epoch 12/25\n",
      "60000/60000 [==============================] - 3s 44us/step - loss: 0.2602 - acc: 0.9044 - val_loss: 0.2470 - val_acc: 0.9120\n",
      "Epoch 13/25\n",
      "60000/60000 [==============================] - 3s 44us/step - loss: 0.2520 - acc: 0.9081 - val_loss: 0.2686 - val_acc: 0.8987\n",
      "Epoch 14/25\n",
      "60000/60000 [==============================] - 3s 44us/step - loss: 0.2472 - acc: 0.9097 - val_loss: 0.2408 - val_acc: 0.9124\n",
      "Epoch 15/25\n",
      "60000/60000 [==============================] - 3s 44us/step - loss: 0.2430 - acc: 0.9108 - val_loss: 0.2556 - val_acc: 0.9064\n",
      "Epoch 16/25\n",
      "60000/60000 [==============================] - 3s 44us/step - loss: 0.2408 - acc: 0.9128 - val_loss: 0.2558 - val_acc: 0.9064\n",
      "Epoch 17/25\n",
      "60000/60000 [==============================] - 3s 44us/step - loss: 0.2391 - acc: 0.9120 - val_loss: 0.2275 - val_acc: 0.9172\n",
      "Epoch 18/25\n",
      "60000/60000 [==============================] - 3s 44us/step - loss: 0.2326 - acc: 0.9159 - val_loss: 0.2322 - val_acc: 0.9143\n",
      "Epoch 19/25\n",
      "60000/60000 [==============================] - 3s 44us/step - loss: 0.2330 - acc: 0.9145 - val_loss: 0.2281 - val_acc: 0.9176\n",
      "Epoch 20/25\n",
      "60000/60000 [==============================] - 3s 44us/step - loss: 0.2267 - acc: 0.9172 - val_loss: 0.2241 - val_acc: 0.9180\n",
      "Epoch 21/25\n",
      "60000/60000 [==============================] - 3s 44us/step - loss: 0.2241 - acc: 0.9182 - val_loss: 0.2394 - val_acc: 0.9126\n",
      "Epoch 22/25\n",
      "60000/60000 [==============================] - 3s 44us/step - loss: 0.2229 - acc: 0.9185 - val_loss: 0.2143 - val_acc: 0.9226\n",
      "Epoch 23/25\n",
      "60000/60000 [==============================] - 3s 44us/step - loss: 0.2160 - acc: 0.9195 - val_loss: 0.2201 - val_acc: 0.9211\n",
      "Epoch 24/25\n",
      "60000/60000 [==============================] - 3s 44us/step - loss: 0.2162 - acc: 0.9209 - val_loss: 0.2254 - val_acc: 0.9170\n",
      "Epoch 25/25\n",
      "60000/60000 [==============================] - 3s 44us/step - loss: 0.2150 - acc: 0.9204 - val_loss: 0.2169 - val_acc: 0.9212\n"
     ]
    }
   ],
   "source": [
    "H = model.fit(trainX, trainY,\n",
    "              validation_data=(testX, testY),\n",
    "              batch_size=BS, epochs=NUM_EPOCHS)"
   ]
  },
  {
   "cell_type": "markdown",
   "metadata": {},
   "source": [
    "## Test"
   ]
  },
  {
   "cell_type": "code",
   "execution_count": 9,
   "metadata": {},
   "outputs": [
    {
     "name": "stdout",
     "output_type": "stream",
     "text": [
      "[INFO] evaluating network...\n",
      "              precision    recall  f1-score   support\n",
      "\n",
      "         top       0.86      0.90      0.88      1000\n",
      "     trouser       1.00      0.98      0.99      1000\n",
      "    pullover       0.88      0.90      0.89      1000\n",
      "       dress       0.93      0.90      0.92      1000\n",
      "        coat       0.85      0.91      0.88      1000\n",
      "      sandal       0.99      0.98      0.98      1000\n",
      "       shirt       0.80      0.72      0.76      1000\n",
      "     sneaker       0.94      0.99      0.96      1000\n",
      "         bag       0.98      0.99      0.98      1000\n",
      "  ankle boot       0.98      0.96      0.97      1000\n",
      "\n",
      "    accuracy                           0.92     10000\n",
      "   macro avg       0.92      0.92      0.92     10000\n",
      "weighted avg       0.92      0.92      0.92     10000\n",
      "\n"
     ]
    }
   ],
   "source": [
    "preds = model.predict(testX)\n",
    "# show a nicely formatted classification report\n",
    "print(\"[INFO] evaluating network...\")\n",
    "print(classification_report(testY.argmax(axis=1), preds.argmax(axis=1),\n",
    "                            target_names=labelNames))"
   ]
  },
  {
   "cell_type": "code",
   "execution_count": 10,
   "metadata": {},
   "outputs": [
    {
     "data": {
      "image/png": "[encoded data removed]",
      "text/plain": [
       "<Figure size 432x288 with 1 Axes>"
      ]
     },
     "metadata": {},
     "output_type": "display_data"
    }
   ],
   "source": [
    "# plot the training loss and accuracy\n",
    "N = NUM_EPOCHS\n",
    "plt.style.use(\"ggplot\")\n",
    "plt.figure()\n",
    "plt.plot(np.arange(0, N), H.history[\"loss\"], label=\"train_loss\")\n",
    "plt.plot(np.arange(0, N), H.history[\"val_loss\"], label=\"val_loss\")\n",
    "plt.plot(np.arange(0, N), H.history[\"acc\"], label=\"train_acc\")\n",
    "plt.plot(np.arange(0, N), H.history[\"val_acc\"], label=\"val_acc\")\n",
    "plt.title(\"Training Loss and Accuracy on Dataset\")\n",
    "plt.xlabel(\"Epoch #\")\n",
    "plt.ylabel(\"Loss/Accuracy\")\n",
    "plt.legend(loc=\"lower left\")\n",
    "plt.show()"
   ]
  },
  {
   "cell_type": "code",
   "execution_count": null,
   "metadata": {},
   "outputs": [],
   "source": []
  }
 ],
 "metadata": {
  "kernelspec": {
   "display_name": "Python 3",
   "language": "python",
   "name": "python3"
  },
  "language_info": {
   "codemirror_mode": {
    "name": "ipython",
    "version": 3
   },
   "file_extension": ".py",
   "mimetype": "text/x-python",
   "name": "python",
   "nbconvert_exporter": "python",
   "pygments_lexer": "ipython3",
   "version": "3.6.8"
  }
 },
 "nbformat": 4,
 "nbformat_minor": 4
}
